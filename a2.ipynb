{
 "cells": [
  {
   "cell_type": "code",
   "execution_count": 5,
   "id": "ad36bf19-9712-48b1-8cbf-6e5d6e4a1b0a",
   "metadata": {},
   "outputs": [
    {
     "name": "stdout",
     "output_type": "stream",
     "text": [
      "hii\n"
     ]
    }
   ],
   "source": [
    "#ques 1"
   ]
  },
  {
   "cell_type": "code",
   "execution_count": 12,
   "id": "83b24eeb-5db5-4a20-a072-9b171cbe6f11",
   "metadata": {},
   "outputs": [],
   "source": [
    "#def keyword is used to create function .\n",
    "def get_odd_num():\n",
    "    a = range(1,25)\n",
    "    odd_num=[]\n",
    "    \n",
    "    for i in a :\n",
    "        if i%2 !=0 :\n",
    "            odd_num.append(i)\n",
    "    return odd_num"
   ]
  },
  {
   "cell_type": "code",
   "execution_count": 13,
   "id": "8e4a199b-5bf6-439e-b593-aefa42264f8e",
   "metadata": {},
   "outputs": [
    {
     "data": {
      "text/plain": [
       "[1, 3, 5, 7, 9, 11, 13, 15, 17, 19, 21, 23]"
      ]
     },
     "execution_count": 13,
     "metadata": {},
     "output_type": "execute_result"
    }
   ],
   "source": [
    "get_odd_num()"
   ]
  },
  {
   "cell_type": "code",
   "execution_count": 14,
   "id": "3a94f379-77b0-471e-bcd1-c37d3ee0b5ac",
   "metadata": {},
   "outputs": [
    {
     "data": {
      "text/plain": [
       "(5, [0, 1, 2, 3])"
      ]
     },
     "execution_count": 14,
     "metadata": {},
     "output_type": "execute_result"
    }
   ],
   "source": [
    "# QUES 2-ANS-*args are used by the user to pass the multiple values to the function which returns the data as tuple format\n",
    "def fn(*args):\n",
    "    return args \n",
    "fn(5,[i for i in range(4)])"
   ]
  },
  {
   "cell_type": "code",
   "execution_count": 18,
   "id": "3bc3c3aa-1871-4eed-aec3-bb6926f707ef",
   "metadata": {},
   "outputs": [],
   "source": [
    "#**kwargs is used to pass-key-value pairs to the function that returns the data as a dictionary format. \n",
    "def fastfood(**fastfood):\n",
    "    total=0\n",
    "    for i in fastfood.values():\n",
    "        total+=i\n",
    "    return total     "
   ]
  },
  {
   "cell_type": "code",
   "execution_count": 19,
   "id": "426786d4-c0dd-4a1f-b9d2-a3794ed1272d",
   "metadata": {},
   "outputs": [
    {
     "data": {
      "text/plain": [
       "200"
      ]
     },
     "execution_count": 19,
     "metadata": {},
     "output_type": "execute_result"
    }
   ],
   "source": [
    "fastfood(burger=30, chillipotato = 70 , hotdog = 100)"
   ]
  },
  {
   "cell_type": "code",
   "execution_count": 20,
   "id": "472c95b2-572e-4258-93ed-c7e581597eb7",
   "metadata": {},
   "outputs": [
    {
     "name": "stdout",
     "output_type": "stream",
     "text": [
      "2 4 6 8\n"
     ]
    }
   ],
   "source": [
    "#QUES3-ANS- ITERATOR works to extract the dAta stored in variable one by one as the loop is executed,Iter() method is used to initialize the iterator object and next() method is used foriteration.\n",
    "#for example \n",
    "l=[2,4,6,8,10,12,14,16,18,20]\n",
    "convert_iter = iter(l)\n",
    "print(next(convert_iter) ,next(convert_iter), next(convert_iter) ,next(convert_iter))"
   ]
  },
  {
   "cell_type": "code",
   "execution_count": 21,
   "id": "1edb0b08-65f4-4ddd-9716-c48b9956f6fb",
   "metadata": {},
   "outputs": [],
   "source": [
    "#QUES4-ANS-A GENERATOR FUNCTION allows data to be extarted from the object one by one .the yield keyword is used to generate a large sequence of values as it gives an immediate output by iterating over the data \n",
    "\n",
    "#generator function example \n",
    "\n",
    "def omkar():\n",
    "    l=[1,2,3,'chetan','devansh' , 5.6 ,8.89]\n",
    "    for i in l :\n",
    "        yield(i)\n",
    "        "
   ]
  },
  {
   "cell_type": "code",
   "execution_count": 22,
   "id": "9a9def6d-d200-4a97-8436-3d8a0e8b778f",
   "metadata": {},
   "outputs": [
    {
     "data": {
      "text/plain": [
       "[1, 2, 3, 'chetan', 'devansh', 5.6, 8.89]"
      ]
     },
     "execution_count": 22,
     "metadata": {},
     "output_type": "execute_result"
    }
   ],
   "source": [
    "list(omkar())"
   ]
  },
  {
   "cell_type": "code",
   "execution_count": 53,
   "id": "47ffddb5-791e-4b88-b763-15106107e289",
   "metadata": {},
   "outputs": [],
   "source": [
    "#Ques 5 - ans - \n",
    "\n",
    "def isprime(num):\n",
    "    for i in range(2,num) :\n",
    "        if num %i ==0 :\n",
    "            return False \n",
    "    return True \n",
    "\n",
    "def primeGenerator(n) :\n",
    "    num =2 \n",
    "    while n > 0 :\n",
    "        if isprime(num) :\n",
    "            yield num \n",
    "            n-=1\n",
    "            num+=1\n",
    "        return  \n",
    "\n",
    "    "
   ]
  },
  {
   "cell_type": "code",
   "execution_count": 54,
   "id": "0f34d376-6f60-462e-ad73-f1c40747ca1a",
   "metadata": {},
   "outputs": [],
   "source": [
    "a=primeGenerator(20)"
   ]
  },
  {
   "cell_type": "code",
   "execution_count": 55,
   "id": "27cf337b-3d89-4f2b-bc2c-bd90e6c97d06",
   "metadata": {},
   "outputs": [
    {
     "ename": "StopIteration",
     "evalue": "",
     "output_type": "error",
     "traceback": [
      "\u001b[0;31m---------------------------------------------------------------------------\u001b[0m",
      "\u001b[0;31mStopIteration\u001b[0m                             Traceback (most recent call last)",
      "Cell \u001b[0;32mIn[55], line 1\u001b[0m\n\u001b[0;32m----> 1\u001b[0m \u001b[38;5;28mprint\u001b[39m(\u001b[38;5;28mnext\u001b[39m(a),\u001b[38;5;28;43mnext\u001b[39;49m\u001b[43m(\u001b[49m\u001b[43ma\u001b[49m\u001b[43m)\u001b[49m,\u001b[38;5;28mnext\u001b[39m(a),\u001b[38;5;28mnext\u001b[39m(a),\u001b[38;5;28mnext\u001b[39m(a),\u001b[38;5;28mnext\u001b[39m(a),\u001b[38;5;28mnext\u001b[39m(a),\u001b[38;5;28mnext\u001b[39m(a),\u001b[38;5;28mnext\u001b[39m(a),\u001b[38;5;28mnext\u001b[39m(a),\u001b[38;5;28mnext\u001b[39m(a),\u001b[38;5;28mnext\u001b[39m(a),\u001b[38;5;28mnext\u001b[39m(a),\u001b[38;5;28mnext\u001b[39m(a),\u001b[38;5;28mnext\u001b[39m(a),\u001b[38;5;28mnext\u001b[39m(a),\u001b[38;5;28mnext\u001b[39m(a),\u001b[38;5;28mnext\u001b[39m(a),\u001b[38;5;28mnext\u001b[39m(a),\u001b[38;5;28mnext\u001b[39m(a))\n",
      "\u001b[0;31mStopIteration\u001b[0m: "
     ]
    }
   ],
   "source": [
    "print(next(a),next(a),next(a),next(a),next(a),next(a),next(a),next(a),next(a),next(a),next(a),next(a),next(a),next(a),next(a),next(a),next(a),next(a),next(a),next(a))"
   ]
  },
  {
   "cell_type": "code",
   "execution_count": 56,
   "id": "52177ad8-8d7e-4af4-9ea1-b201ce1b4b60",
   "metadata": {},
   "outputs": [
    {
     "name": "stdout",
     "output_type": "stream",
     "text": [
      "0\n",
      "1\n",
      "1\n",
      "2\n",
      "3\n",
      "5\n",
      "8\n",
      "13\n",
      "21\n",
      "34\n"
     ]
    }
   ],
   "source": [
    "#ques 6\n",
    "first_num=0\n",
    "second_num=1\n",
    "counter=0\n",
    "while counter < 10 :\n",
    "    if counter <=1 :\n",
    "        next_num = counter\n",
    "    else :\n",
    "        next_num= first_num + second_num\n",
    "        first_num=second_num\n",
    "        second_num=next_num\n",
    "    print(next_num)\n",
    "    counter=counter+1"
   ]
  },
  {
   "cell_type": "code",
   "execution_count": 59,
   "id": "142c0b93-1a8d-443a-a42f-3d0b16c77183",
   "metadata": {},
   "outputs": [
    {
     "data": {
      "text/plain": [
       "['p', 'w', 's', 'k', 'i', 'l', 'l', 's']"
      ]
     },
     "execution_count": 59,
     "metadata": {},
     "output_type": "execute_result"
    }
   ],
   "source": [
    "#ques 7 \n",
    "s='pwskills'\n",
    "[i for i in s]\n"
   ]
  },
  {
   "cell_type": "code",
   "execution_count": 61,
   "id": "267fe7d8-3245-4d8c-a43e-bcee7d1c6a73",
   "metadata": {},
   "outputs": [
    {
     "name": "stdin",
     "output_type": "stream",
     "text": [
      "enter your number 323\n"
     ]
    },
    {
     "name": "stdout",
     "output_type": "stream",
     "text": [
      "it is a palindrome\n"
     ]
    }
   ],
   "source": [
    "#ques8 \n",
    "num=int(input(\"enter your number\"))\n",
    "temp_num=num\n",
    "rev_num=0\n",
    "while num > 0 : \n",
    "    last_digit = num%10\n",
    "    rev_num=rev_num*10 +last_digit\n",
    "    num = num//10\n",
    "if temp_num==rev_num:\n",
    "    print('it is a palindrome')\n",
    "else :\n",
    "    print('it is not a palindrome')"
   ]
  },
  {
   "cell_type": "code",
   "execution_count": 62,
   "id": "4c769c1b-ce8d-4daf-ad6e-5338e712a85a",
   "metadata": {},
   "outputs": [
    {
     "data": {
      "text/plain": [
       "[1,\n",
       " 3,\n",
       " 5,\n",
       " 7,\n",
       " 9,\n",
       " 11,\n",
       " 13,\n",
       " 15,\n",
       " 17,\n",
       " 19,\n",
       " 21,\n",
       " 23,\n",
       " 25,\n",
       " 27,\n",
       " 29,\n",
       " 31,\n",
       " 33,\n",
       " 35,\n",
       " 37,\n",
       " 39,\n",
       " 41,\n",
       " 43,\n",
       " 45,\n",
       " 47,\n",
       " 49,\n",
       " 51,\n",
       " 53,\n",
       " 55,\n",
       " 57,\n",
       " 59,\n",
       " 61,\n",
       " 63,\n",
       " 65,\n",
       " 67,\n",
       " 69,\n",
       " 71,\n",
       " 73,\n",
       " 75,\n",
       " 77,\n",
       " 79,\n",
       " 81,\n",
       " 83,\n",
       " 85,\n",
       " 87,\n",
       " 89,\n",
       " 91,\n",
       " 93,\n",
       " 95,\n",
       " 97,\n",
       " 99]"
      ]
     },
     "execution_count": 62,
     "metadata": {},
     "output_type": "execute_result"
    }
   ],
   "source": [
    "#ques9 \n",
    "l = range(1,100)\n",
    "[i for i in l if i%2 !=0]"
   ]
  },
  {
   "cell_type": "code",
   "execution_count": null,
   "id": "b3693d8a-69cf-496e-92a7-ad4d4ed21bff",
   "metadata": {},
   "outputs": [],
   "source": []
  }
 ],
 "metadata": {
  "kernelspec": {
   "display_name": "Python 3 (ipykernel)",
   "language": "python",
   "name": "python3"
  },
  "language_info": {
   "codemirror_mode": {
    "name": "ipython",
    "version": 3
   },
   "file_extension": ".py",
   "mimetype": "text/x-python",
   "name": "python",
   "nbconvert_exporter": "python",
   "pygments_lexer": "ipython3",
   "version": "3.10.8"
  }
 },
 "nbformat": 4,
 "nbformat_minor": 5
}
